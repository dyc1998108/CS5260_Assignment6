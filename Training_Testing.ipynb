{
 "cells": [
  {
   "cell_type": "code",
   "execution_count": 1,
   "id": "6c960c15",
   "metadata": {},
   "outputs": [],
   "source": [
    "import torch\n",
    "import torch.nn as nn\n",
    "import torch.nn.functional as F\n",
    "import torch.optim as optim\n",
    "from torch.utils.data import DataLoader\n",
    "from torchvision import datasets, transforms"
   ]
  },
  {
   "cell_type": "code",
   "execution_count": 2,
   "id": "36463f7b",
   "metadata": {},
   "outputs": [],
   "source": [
    "DEVICE = torch.device(\"cuda\" if torch.cuda.is_available() else \"cpu\")\n",
    "EPOCHS = 30\n",
    "BATCH_SIZE = 64 # For faster purpose\n",
    "LR =  0.0003 # [0.0003, 0.003, 0.03, 0.07, 0.13]"
   ]
  },
  {
   "cell_type": "code",
   "execution_count": 3,
   "id": "fc9e2e26",
   "metadata": {},
   "outputs": [],
   "source": [
    "transform = transforms.Compose([\n",
    "    transforms.ToTensor(),\n",
    "    transforms.Normalize((0.1307, ), (0.3081, ))\n",
    "])"
   ]
  },
  {
   "cell_type": "code",
   "execution_count": 4,
   "id": "ae871954",
   "metadata": {},
   "outputs": [
    {
     "name": "stderr",
     "output_type": "stream",
     "text": [
      "e:\\python3.6.8\\lib\\site-packages\\torchvision\\datasets\\mnist.py:498: UserWarning: The given NumPy array is not writeable, and PyTorch does not support non-writeable tensors. This means you can write to the underlying (supposedly non-writeable) NumPy array using the tensor. You may want to copy the array to protect its data or make it writeable before converting it to a tensor. This type of warning will be suppressed for the rest of this program. (Triggered internally at  ..\\torch\\csrc\\utils\\tensor_numpy.cpp:180.)\n",
      "  return torch.from_numpy(parsed.astype(m[2], copy=False)).view(*s)\n"
     ]
    }
   ],
   "source": [
    "train_set = datasets.MNIST(\"data_sets\", train=True, download=True, transform=transform)\n",
    "test_set = datasets.MNIST(\"data_sets\", train=False, download=True, transform=transform)\n",
    "\n",
    "train_loader = DataLoader(train_set, batch_size=BATCH_SIZE, shuffle=True)\n",
    "test_loader = DataLoader(test_set, batch_size=BATCH_SIZE, shuffle=True)"
   ]
  },
  {
   "cell_type": "code",
   "execution_count": 5,
   "id": "95b214d1",
   "metadata": {},
   "outputs": [],
   "source": [
    "class LeNet(nn.Module):\n",
    "    def __init__(self):\n",
    "        super().__init__()\n",
    "        self.conv1 = nn.Sequential(\n",
    "            nn.Conv2d(1, 6, 5, 1, 2),\n",
    "            nn.ReLU(),\n",
    "            nn.MaxPool2d(kernel_size=2, stride=2)\n",
    "        )\n",
    "        self.conv2 = nn.Sequential(\n",
    "            nn.Conv2d(6, 16, 5),\n",
    "            nn.ReLU(),\n",
    "            nn.MaxPool2d(2, 2)\n",
    "        )\n",
    "        self.dense1 = nn.Sequential(\n",
    "            nn.Linear(16*5*5, 120),\n",
    "            nn.ReLU()\n",
    "        )\n",
    "        self.dense2 = nn.Sequential(\n",
    "            nn.Linear(120, 84),\n",
    "            nn.ReLU()\n",
    "        )\n",
    "        self.dense3 = nn.Sequential(\n",
    "            nn.Linear(84, 10),\n",
    "            nn.Softmax(dim=1)\n",
    "        )\n",
    "\n",
    "    def forward(self, x):\n",
    "        x = self.conv1(x)\n",
    "        x = self.conv2(x)\n",
    "        x = x.view(x.size(0), -1)\n",
    "        x = self.dense1(x)\n",
    "        x = self.dense2(x)\n",
    "        x = self.dense3(x)\n",
    "        return x"
   ]
  },
  {
   "cell_type": "code",
   "execution_count": 6,
   "id": "2f38ce35",
   "metadata": {},
   "outputs": [],
   "source": [
    "model = LeNet().to(DEVICE)\n",
    "optimizer = optim.SGD(model.parameters(), lr=LR, momentum=0.9, weight_decay=5e-4)\n",
    "lr_scheduler = torch.optim.lr_scheduler.MultiStepLR(optimizer, milestones=[300, 600, 900], gamma=0.5, last_epoch=-1)"
   ]
  },
  {
   "cell_type": "code",
   "execution_count": 7,
   "id": "e4ed41bf",
   "metadata": {},
   "outputs": [],
   "source": [
    "def train_model(my_model, device, trains_loader, optimizers, lr_scheduler, epoches):\n",
    "    # 模型训练\n",
    "    my_model.train()\n",
    "    for batch_idx, (data, target) in enumerate(trains_loader):\n",
    "        data, target = data.to(device), target.to(device)\n",
    "        optimizers.zero_grad()\n",
    "        output = my_model(data)\n",
    "        loss = F.cross_entropy(output, target)\n",
    "        loss.backward()\n",
    "        optimizers.step()\n",
    "        lr_scheduler.step()\n",
    "\n",
    "def test_model(my_model, device, test_loder):\n",
    "    my_model.eval()\n",
    "    correct = 0\n",
    "    test_loss = 0\n",
    "    with torch.no_grad(): \n",
    "        for data, target in test_loder:\n",
    "            data, target = data.to(device), target.to(device)\n",
    "            output = my_model(data)\n",
    "            test_loss += F.cross_entropy(output, target).item()\n",
    "            predict = output.argmax(dim=1)\n",
    "            correct += predict.eq(target.view_as(predict)).sum().item()\n",
    "        avg_loss = test_loss / len(test_loder.dataset)\n",
    "        correct_ratio = 100 * correct / len(test_loder.dataset)\n",
    "        return avg_loss, correct_ratio"
   ]
  },
  {
   "cell_type": "code",
   "execution_count": 8,
   "id": "0d74b161",
   "metadata": {},
   "outputs": [
    {
     "name": "stdout",
     "output_type": "stream",
     "text": [
      "Epoch: 1\t Loss: 0.03614\t Accuracy: 9.94000\n",
      "Epoch: 2\t Loss: 0.03614\t Accuracy: 10.05000\n",
      "Epoch: 3\t Loss: 0.03614\t Accuracy: 10.13000\n",
      "Epoch: 4\t Loss: 0.03614\t Accuracy: 10.25000\n",
      "Epoch: 5\t Loss: 0.03613\t Accuracy: 10.34000\n",
      "Epoch: 6\t Loss: 0.03613\t Accuracy: 10.41000\n",
      "Epoch: 7\t Loss: 0.03613\t Accuracy: 10.43000\n",
      "Epoch: 8\t Loss: 0.03613\t Accuracy: 10.53000\n",
      "Epoch: 9\t Loss: 0.03613\t Accuracy: 10.55000\n",
      "Epoch: 10\t Loss: 0.03612\t Accuracy: 10.60000\n",
      "Epoch: 11\t Loss: 0.03612\t Accuracy: 10.72000\n",
      "Epoch: 12\t Loss: 0.03612\t Accuracy: 10.77000\n",
      "Epoch: 13\t Loss: 0.03612\t Accuracy: 10.82000\n",
      "Epoch: 14\t Loss: 0.03611\t Accuracy: 10.97000\n",
      "Epoch: 15\t Loss: 0.03611\t Accuracy: 11.16000\n",
      "Epoch: 16\t Loss: 0.03611\t Accuracy: 11.27000\n",
      "Epoch: 17\t Loss: 0.03610\t Accuracy: 11.46000\n",
      "Epoch: 18\t Loss: 0.03610\t Accuracy: 11.74000\n",
      "Epoch: 19\t Loss: 0.03610\t Accuracy: 12.03000\n",
      "Epoch: 20\t Loss: 0.03609\t Accuracy: 12.52000\n",
      "Epoch: 21\t Loss: 0.03609\t Accuracy: 12.97000\n",
      "Epoch: 22\t Loss: 0.03608\t Accuracy: 13.80000\n",
      "Epoch: 23\t Loss: 0.03608\t Accuracy: 14.49000\n",
      "Epoch: 24\t Loss: 0.03607\t Accuracy: 15.27000\n",
      "Epoch: 25\t Loss: 0.03607\t Accuracy: 16.61000\n",
      "Epoch: 26\t Loss: 0.03606\t Accuracy: 18.21000\n",
      "Epoch: 27\t Loss: 0.03606\t Accuracy: 19.82000\n",
      "Epoch: 28\t Loss: 0.03605\t Accuracy: 21.88000\n",
      "Epoch: 29\t Loss: 0.03604\t Accuracy: 24.32000\n",
      "Epoch: 30\t Loss: 0.03603\t Accuracy: 26.70000\n"
     ]
    }
   ],
   "source": [
    "for epoch in range(1, EPOCHS+1):\n",
    "#     train_model(model, DEVICE, train_loader, optimizer, epoch)\n",
    "    train_model(model, DEVICE, train_loader, optimizer, lr_scheduler, epoch)\n",
    "    avg_loss, correct_ratio = test_model(model, DEVICE, test_loader)\n",
    "    print(\"Epoch: \" + str(epoch) + \"\\t Loss: {:.5f}\\t Accuracy: {:.5f}\".format(avg_loss, correct_ratio))"
   ]
  },
  {
   "cell_type": "code",
   "execution_count": 9,
   "id": "15ab8e4b",
   "metadata": {},
   "outputs": [],
   "source": [
    "torch.cuda.empty_cache()"
   ]
  },
  {
   "cell_type": "code",
   "execution_count": null,
   "id": "135f85df",
   "metadata": {},
   "outputs": [],
   "source": []
  }
 ],
 "metadata": {
  "kernelspec": {
   "display_name": "Python 3",
   "language": "python",
   "name": "python3"
  },
  "language_info": {
   "codemirror_mode": {
    "name": "ipython",
    "version": 3
   },
   "file_extension": ".py",
   "mimetype": "text/x-python",
   "name": "python",
   "nbconvert_exporter": "python",
   "pygments_lexer": "ipython3",
   "version": "3.6.8"
  }
 },
 "nbformat": 4,
 "nbformat_minor": 5
}
